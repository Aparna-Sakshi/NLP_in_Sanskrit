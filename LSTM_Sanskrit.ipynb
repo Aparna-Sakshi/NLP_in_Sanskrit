{
 "cells": [
  {
   "cell_type": "code",
   "execution_count": 1,
   "metadata": {},
   "outputs": [],
   "source": [
    "from mpl_toolkits.mplot3d import Axes3D\n",
    "from sklearn.preprocessing import StandardScaler\n",
    "import sklearn\n",
    "import matplotlib.pyplot as plt # plotting\n",
    "import numpy as np # linear algebra\n",
    "import os # accessing directory structure\n",
    "import pandas as pd # data processing, CSV file I/O (e.g. pd.read_csv)\n",
    "from nltk.tokenize import word_tokenize,sent_tokenize\n",
    "import sentencepiece as spm\n",
    "import keras\n",
    "from fastai.text import *\n",
    "import re\n",
    "import pdb\n",
    "import fastai\n",
    "\n",
    "from sklearn.preprocessing import LabelEncoder"
   ]
  },
  {
   "cell_type": "code",
   "execution_count": 2,
   "metadata": {},
   "outputs": [
    {
     "name": "stdout",
     "output_type": "stream",
     "text": [
      "There are 383 rows and 2 columns\n"
     ]
    }
   ],
   "source": [
    "nRowsRead = 1000 # specify 'None' if want to read whole file\n",
    "# train.csv may have more rows in reality, but we are only loading/previewing the first 1000 rows\n",
    "df = pd.read_csv('train.csv', delimiter=',', nrows = nRowsRead)\n",
    "df.dataframeName = 'train.csv'\n",
    "nRow, nCol = df.shape\n",
    "print(f'There are {nRow} rows and {nCol} columns')"
   ]
  },
  {
   "cell_type": "code",
   "execution_count": 3,
   "metadata": {},
   "outputs": [
    {
     "data": {
      "text/plain": [
       "Index(['Sloka', 'Class'], dtype='object')"
      ]
     },
     "execution_count": 3,
     "metadata": {},
     "output_type": "execute_result"
    }
   ],
   "source": [
    "df.head(5)\n",
    "df.columns"
   ]
  },
  {
   "cell_type": "code",
   "execution_count": 4,
   "metadata": {},
   "outputs": [
    {
     "name": "stdout",
     "output_type": "stream",
     "text": [
      "There are 96 rows and 2 columns\n"
     ]
    }
   ],
   "source": [
    "nRowsRead = 1000 # specify 'None' if want to read whole file\n",
    "# valid.csv may have more rows in reality, but we are only loading/previewing the first 1000 rows\n",
    "df2 = pd.read_csv('valid.csv', delimiter=',', nrows = nRowsRead)\n",
    "df2.dataframeName = 'valid.csv'\n",
    "nRow, nCol = df2.shape\n",
    "print(f'There are {nRow} rows and {nCol} columns')"
   ]
  },
  {
   "cell_type": "code",
   "execution_count": 5,
   "metadata": {},
   "outputs": [
    {
     "data": {
      "text/html": [
       "<div>\n",
       "<style scoped>\n",
       "    .dataframe tbody tr th:only-of-type {\n",
       "        vertical-align: middle;\n",
       "    }\n",
       "\n",
       "    .dataframe tbody tr th {\n",
       "        vertical-align: top;\n",
       "    }\n",
       "\n",
       "    .dataframe thead th {\n",
       "        text-align: right;\n",
       "    }\n",
       "</style>\n",
       "<table border=\"1\" class=\"dataframe\">\n",
       "  <thead>\n",
       "    <tr style=\"text-align: right;\">\n",
       "      <th></th>\n",
       "      <th>Sloka</th>\n",
       "      <th>Class</th>\n",
       "    </tr>\n",
       "  </thead>\n",
       "  <tbody>\n",
       "    <tr>\n",
       "      <th>0</th>\n",
       "      <td>यो यस्मिन् कर्माणि कुशलस्तं तस्मित्रैव योजयेत्...</td>\n",
       "      <td>sanskrit-slogan</td>\n",
       "    </tr>\n",
       "    <tr>\n",
       "      <th>1</th>\n",
       "      <td>अध्ययनेन/अध्ययनं वीना ज्ञानं न भवति ॥</td>\n",
       "      <td>sanskrit-slogan</td>\n",
       "    </tr>\n",
       "    <tr>\n",
       "      <th>2</th>\n",
       "      <td>पुष्पं पुष्पं विचिन्वीत मूलच्छेदं न कारयेत् । ...</td>\n",
       "      <td>Vidur Niti Slokas</td>\n",
       "    </tr>\n",
       "    <tr>\n",
       "      <th>3</th>\n",
       "      <td>मृजया रक्ष्यते रूपम् ॥</td>\n",
       "      <td>sanskrit-slogan</td>\n",
       "    </tr>\n",
       "    <tr>\n",
       "      <th>4</th>\n",
       "      <td>मूर्खश्चिरायुर्जातोऽपि तस्माज्जातमृतो वरः।    ...</td>\n",
       "      <td>Chanakya Slokas</td>\n",
       "    </tr>\n",
       "  </tbody>\n",
       "</table>\n",
       "</div>"
      ],
      "text/plain": [
       "                                               Sloka              Class\n",
       "0  यो यस्मिन् कर्माणि कुशलस्तं तस्मित्रैव योजयेत्...    sanskrit-slogan\n",
       "1           अध्ययनेन/अध्ययनं वीना ज्ञानं न भवति ॥       sanskrit-slogan\n",
       "2  पुष्पं पुष्पं विचिन्वीत मूलच्छेदं न कारयेत् । ...  Vidur Niti Slokas\n",
       "3                           मृजया रक्ष्यते रूपम् ॥      sanskrit-slogan\n",
       "4  मूर्खश्चिरायुर्जातोऽपि तस्माज्जातमृतो वरः।    ...    Chanakya Slokas"
      ]
     },
     "execution_count": 5,
     "metadata": {},
     "output_type": "execute_result"
    }
   ],
   "source": [
    "df2.head(5)"
   ]
  },
  {
   "cell_type": "code",
   "execution_count": 6,
   "metadata": {},
   "outputs": [
    {
     "name": "stdout",
     "output_type": "stream",
     "text": [
      "(479, 2)\n"
     ]
    }
   ],
   "source": [
    "df1 = pd.concat([df, df2])\n",
    "df1.head(5)\n",
    "print(df1.shape)"
   ]
  },
  {
   "cell_type": "code",
   "execution_count": 7,
   "metadata": {},
   "outputs": [],
   "source": [
    "sloka = df1['Sloka']\n",
    "labels = df1['Class']"
   ]
  },
  {
   "cell_type": "code",
   "execution_count": 8,
   "metadata": {},
   "outputs": [
    {
     "name": "stdout",
     "output_type": "stream",
     "text": [
      "[1 1 0 2 ... 2 2 0 0]\n"
     ]
    }
   ],
   "source": [
    "encoder = LabelEncoder()\n",
    "encoded_labels = encoder.fit_transform(labels)\n",
    "print(encoded_labels)"
   ]
  },
  {
   "cell_type": "code",
   "execution_count": 9,
   "metadata": {},
   "outputs": [],
   "source": [
    "from sklearn.model_selection import train_test_split"
   ]
  },
  {
   "cell_type": "code",
   "execution_count": 10,
   "metadata": {},
   "outputs": [],
   "source": [
    "train_sentences, test_sentences, train_labels, test_labels = train_test_split(sloka, encoded_labels,stratify=encoded_labels, test_size=0.1)"
   ]
  },
  {
   "cell_type": "code",
   "execution_count": 11,
   "metadata": {},
   "outputs": [],
   "source": [
    "# Hyperparameters of the model\n",
    "vocab_size = 1000\n",
    "oov_tok = '<OOK>'\n",
    "embedding_dim = 100\n",
    "max_length = 30\n",
    "padding_type='post'\n",
    "trunc_type='post'"
   ]
  },
  {
   "cell_type": "code",
   "execution_count": 12,
   "metadata": {},
   "outputs": [],
   "source": [
    "from keras.preprocessing.text import Tokenizer\n",
    "from keras.preprocessing.sequence import pad_sequences"
   ]
  },
  {
   "cell_type": "code",
   "execution_count": 13,
   "metadata": {},
   "outputs": [],
   "source": [
    "\n",
    "# tokenize sentences\n",
    "tokenizer = Tokenizer(num_words = vocab_size, oov_token=oov_tok)\n",
    "tokenizer.fit_on_texts(train_sentences)\n",
    "word_index = tokenizer.word_index\n",
    "\n",
    "# convert train dataset to sequence and pad sequences\n",
    "train_sequences = tokenizer.texts_to_sequences(train_sentences)\n",
    "train_padded = pad_sequences(train_sequences, padding='post', maxlen=max_length)\n",
    "\n",
    "# convert Test dataset to sequence and pad sequences\n",
    "test_sequences = tokenizer.texts_to_sequences(test_sentences)\n",
    "test_padded = pad_sequences(test_sequences, padding='post', maxlen=max_length)"
   ]
  },
  {
   "cell_type": "code",
   "execution_count": 14,
   "metadata": {},
   "outputs": [
    {
     "name": "stdout",
     "output_type": "stream",
     "text": [
      "Model: \"sequential\"\n",
      "_________________________________________________________________\n",
      "Layer (type)                 Output Shape              Param #   \n",
      "=================================================================\n",
      "embedding (Embedding)        (None, 30, 100)           100000    \n",
      "_________________________________________________________________\n",
      "bidirectional (Bidirectional (None, 256)               234496    \n",
      "_________________________________________________________________\n",
      "dense (Dense)                (None, 24)                6168      \n",
      "_________________________________________________________________\n",
      "dense_1 (Dense)              (None, 3)                 75        \n",
      "=================================================================\n",
      "Total params: 340,739\n",
      "Trainable params: 340,739\n",
      "Non-trainable params: 0\n",
      "_________________________________________________________________\n"
     ]
    }
   ],
   "source": [
    "# model initialization\n",
    "model = keras.Sequential([\n",
    "    keras.layers.Embedding(vocab_size, embedding_dim, input_length=max_length),\n",
    "    keras.layers.Bidirectional(keras.layers.LSTM(128)),\n",
    "    keras.layers.Dense(24, activation='relu'),\n",
    "    keras.layers.Dense(3, activation='softmax')\n",
    "])\n",
    "\n",
    "# compile model\n",
    "model.compile(loss='categorical_crossentropy',\n",
    "              optimizer='adam',\n",
    "              metrics=['accuracy'])\n",
    "\n",
    "# model summary\n",
    "model.summary()"
   ]
  },
  {
   "cell_type": "code",
   "execution_count": 15,
   "metadata": {},
   "outputs": [],
   "source": [
    "test_labels_one_d = []\n",
    "for i in test_labels:\n",
    "    test_labels_one_d.append(i)\n",
    "train_labels = keras.utils.to_categorical(train_labels, 3)\n",
    "test_labels = keras.utils.to_categorical(test_labels, 3)"
   ]
  },
  {
   "cell_type": "code",
   "execution_count": 16,
   "metadata": {
    "jupyter": {
     "outputs_hidden": true
    }
   },
   "outputs": [
    {
     "name": "stdout",
     "output_type": "stream",
     "text": [
      "Epoch 1/30\n",
      "13/13 [==============================] - 1s 53ms/step - loss: 1.0434 - accuracy: 0.4755 - val_loss: 0.8323 - val_accuracy: 0.7500\n",
      "Epoch 2/30\n",
      "13/13 [==============================] - 0s 19ms/step - loss: 0.7927 - accuracy: 0.6124 - val_loss: 0.6196 - val_accuracy: 0.6591\n",
      "Epoch 3/30\n",
      "13/13 [==============================] - 0s 20ms/step - loss: 0.6573 - accuracy: 0.6486 - val_loss: 0.5357 - val_accuracy: 0.7500\n",
      "Epoch 4/30\n",
      "13/13 [==============================] - 0s 20ms/step - loss: 0.5927 - accuracy: 0.6770 - val_loss: 0.5026 - val_accuracy: 0.7273\n",
      "Epoch 5/30\n",
      "13/13 [==============================] - 0s 20ms/step - loss: 0.5261 - accuracy: 0.7132 - val_loss: 0.5481 - val_accuracy: 0.6591\n",
      "Epoch 6/30\n",
      "13/13 [==============================] - 0s 20ms/step - loss: 0.5154 - accuracy: 0.7442 - val_loss: 0.4673 - val_accuracy: 0.7273\n",
      "Epoch 7/30\n",
      "13/13 [==============================] - 0s 20ms/step - loss: 0.4133 - accuracy: 0.8088 - val_loss: 0.4955 - val_accuracy: 0.7727\n",
      "Epoch 8/30\n",
      "13/13 [==============================] - 0s 19ms/step - loss: 0.3902 - accuracy: 0.8527 - val_loss: 0.5504 - val_accuracy: 0.7500\n",
      "Epoch 9/30\n",
      "13/13 [==============================] - 0s 22ms/step - loss: 0.3234 - accuracy: 0.8837 - val_loss: 0.6454 - val_accuracy: 0.7727\n",
      "Epoch 10/30\n",
      "13/13 [==============================] - 0s 20ms/step - loss: 0.2599 - accuracy: 0.9302 - val_loss: 0.5694 - val_accuracy: 0.7955\n",
      "Epoch 11/30\n",
      "13/13 [==============================] - 0s 21ms/step - loss: 0.1809 - accuracy: 0.9406 - val_loss: 0.6088 - val_accuracy: 0.7727\n",
      "Epoch 12/30\n",
      "13/13 [==============================] - 0s 20ms/step - loss: 0.1931 - accuracy: 0.9199 - val_loss: 0.6302 - val_accuracy: 0.7727\n",
      "Epoch 13/30\n",
      "13/13 [==============================] - 0s 20ms/step - loss: 0.1420 - accuracy: 0.9535 - val_loss: 0.6530 - val_accuracy: 0.7500\n",
      "Epoch 14/30\n",
      "13/13 [==============================] - 0s 20ms/step - loss: 0.1849 - accuracy: 0.9457 - val_loss: 0.5111 - val_accuracy: 0.7273\n",
      "Epoch 15/30\n",
      "13/13 [==============================] - 0s 21ms/step - loss: 0.1804 - accuracy: 0.9406 - val_loss: 0.5471 - val_accuracy: 0.8182\n",
      "Epoch 16/30\n",
      "13/13 [==============================] - 0s 20ms/step - loss: 0.0996 - accuracy: 0.9793 - val_loss: 0.6392 - val_accuracy: 0.7955\n",
      "Epoch 17/30\n",
      "13/13 [==============================] - 0s 21ms/step - loss: 0.1024 - accuracy: 0.9664 - val_loss: 0.5986 - val_accuracy: 0.7955\n",
      "Epoch 18/30\n",
      "13/13 [==============================] - 0s 20ms/step - loss: 0.0778 - accuracy: 0.9742 - val_loss: 0.5578 - val_accuracy: 0.7955\n",
      "Epoch 19/30\n",
      "13/13 [==============================] - 0s 21ms/step - loss: 0.0656 - accuracy: 0.9819 - val_loss: 0.5086 - val_accuracy: 0.8182\n",
      "Epoch 20/30\n",
      "13/13 [==============================] - 0s 20ms/step - loss: 0.0543 - accuracy: 0.9793 - val_loss: 0.5148 - val_accuracy: 0.8182\n",
      "Epoch 21/30\n",
      "13/13 [==============================] - 0s 20ms/step - loss: 0.0495 - accuracy: 0.9845 - val_loss: 0.4761 - val_accuracy: 0.8182\n",
      "Epoch 22/30\n",
      "13/13 [==============================] - 0s 20ms/step - loss: 0.0442 - accuracy: 0.9897 - val_loss: 0.5151 - val_accuracy: 0.8182\n",
      "Epoch 23/30\n",
      "13/13 [==============================] - 0s 21ms/step - loss: 0.0444 - accuracy: 0.9819 - val_loss: 0.5464 - val_accuracy: 0.8182\n",
      "Epoch 24/30\n",
      "13/13 [==============================] - 0s 20ms/step - loss: 0.0507 - accuracy: 0.9871 - val_loss: 0.5782 - val_accuracy: 0.8409\n",
      "Epoch 25/30\n",
      "13/13 [==============================] - 0s 20ms/step - loss: 0.0483 - accuracy: 0.9897 - val_loss: 0.4905 - val_accuracy: 0.7955\n",
      "Epoch 26/30\n",
      "13/13 [==============================] - 0s 20ms/step - loss: 0.0370 - accuracy: 0.9871 - val_loss: 0.6215 - val_accuracy: 0.7955\n",
      "Epoch 27/30\n",
      "13/13 [==============================] - 0s 20ms/step - loss: 0.0335 - accuracy: 0.9871 - val_loss: 0.6903 - val_accuracy: 0.8182\n",
      "Epoch 28/30\n",
      "13/13 [==============================] - 0s 20ms/step - loss: 0.0315 - accuracy: 0.9897 - val_loss: 0.6349 - val_accuracy: 0.7955\n",
      "Epoch 29/30\n",
      "13/13 [==============================] - 0s 21ms/step - loss: 0.0432 - accuracy: 0.9871 - val_loss: 0.7382 - val_accuracy: 0.8409\n",
      "Epoch 30/30\n",
      "13/13 [==============================] - 0s 20ms/step - loss: 0.0372 - accuracy: 0.9845 - val_loss: 0.5199 - val_accuracy: 0.8409\n"
     ]
    }
   ],
   "source": [
    "num_epochs = 30\n",
    "history = model.fit(train_padded, train_labels, \n",
    "                    epochs=num_epochs, verbose=1, \n",
    "                    validation_split=0.1)"
   ]
  },
  {
   "cell_type": "code",
   "execution_count": 17,
   "metadata": {},
   "outputs": [
    {
     "name": "stdout",
     "output_type": "stream",
     "text": [
      "[[8.760914e-04 9.991239e-01 2.156829e-08]\n",
      " [1.263457e-01 8.736537e-01 5.889838e-07]\n",
      " [9.942180e-01 5.781827e-03 7.170393e-08]\n",
      " [2.939606e-05 1.180469e-03 9.987902e-01]\n",
      " ...\n",
      " [3.748699e-04 9.996251e-01 2.398419e-08]\n",
      " [8.013907e-04 9.991986e-01 2.812356e-08]\n",
      " [9.981793e-01 1.820561e-03 1.304962e-07]\n",
      " [2.531907e-02 9.746805e-01 5.127728e-07]]\n",
      "accuracy = 85.41666666666666 %\n"
     ]
    }
   ],
   "source": [
    "# Calculate accuracy on Test data\n",
    "'''\n",
    "prediction = model.predict(test_padded)\n",
    "\n",
    "'''\n",
    "# Get probabilities\n",
    "\n",
    "prediction = model.predict(test_padded)\n",
    "print(prediction)\n",
    "\n",
    "\n",
    "\n",
    "predicted_labels = []\n",
    "for predicted_scores in prediction:\n",
    "    if predicted_scores[0] >= predicted_scores[1] and predicted_scores[0] >= predicted_scores[2]:\n",
    "        predicted_labels.append(0)\n",
    "    elif predicted_scores[1] >= predicted_scores[0] and predicted_scores[1] >= predicted_scores[2]:\n",
    "        predicted_labels.append(1)\n",
    "    else:\n",
    "        predicted_labels.append(2)\n",
    "# Accuracy : one can use classification_report from sklearn\n",
    "correctly_classified = 0\n",
    "wrongly_classified = 0\n",
    "for predicted_label,true_label in zip(predicted_labels,test_labels_one_d):\n",
    "    if predicted_label == true_label:\n",
    "        correctly_classified += 1\n",
    "    else:\n",
    "         wrongly_classified += 1\n",
    "\n",
    "print(f'accuracy = {(correctly_classified/(correctly_classified + wrongly_classified))*100} %')"
   ]
  }
 ],
 "metadata": {
  "kernelspec": {
   "display_name": "Python 3",
   "language": "python",
   "name": "python3"
  },
  "language_info": {
   "codemirror_mode": {
    "name": "ipython",
    "version": 3
   },
   "file_extension": ".py",
   "mimetype": "text/x-python",
   "name": "python",
   "nbconvert_exporter": "python",
   "pygments_lexer": "ipython3",
   "version": "3.8.5"
  }
 },
 "nbformat": 4,
 "nbformat_minor": 4
}
